{
  "nbformat": 4,
  "nbformat_minor": 0,
  "metadata": {
    "colab": {
      "provenance": [],
      "gpuType": "T4"
    },
    "kernelspec": {
      "name": "python3",
      "display_name": "Python 3"
    },
    "language_info": {
      "name": "python"
    },
    "accelerator": "GPU"
  },
  "cells": [
    {
      "cell_type": "code",
      "execution_count": 1,
      "metadata": {
        "colab": {
          "base_uri": "https://localhost:8080/"
        },
        "id": "m8RUIIXaDQke",
        "outputId": "0f9bcbe3-7b29-4e2e-d697-1ffcedd65955"
      },
      "outputs": [
        {
          "output_type": "stream",
          "name": "stdout",
          "text": [
            "Looking in indexes: https://pypi.org/simple, https://us-python.pkg.dev/colab-wheels/public/simple/\n",
            "Collecting pennylane\n",
            "  Downloading PennyLane-0.30.0-py3-none-any.whl (1.4 MB)\n",
            "\u001b[2K     \u001b[90m━━━━━━━━━━━━━━━━━━━━━━━━━━━━━━━━━━━━━━━━\u001b[0m \u001b[32m1.4/1.4 MB\u001b[0m \u001b[31m33.0 MB/s\u001b[0m eta \u001b[36m0:00:00\u001b[0m\n",
            "\u001b[?25hRequirement already satisfied: numpy<1.24 in /usr/local/lib/python3.10/dist-packages (from pennylane) (1.22.4)\n",
            "Requirement already satisfied: scipy in /usr/local/lib/python3.10/dist-packages (from pennylane) (1.10.1)\n",
            "Requirement already satisfied: networkx in /usr/local/lib/python3.10/dist-packages (from pennylane) (3.1)\n",
            "Collecting rustworkx (from pennylane)\n",
            "  Downloading rustworkx-0.13.0-cp310-cp310-manylinux_2_17_x86_64.manylinux2014_x86_64.whl (1.9 MB)\n",
            "\u001b[2K     \u001b[90m━━━━━━━━━━━━━━━━━━━━━━━━━━━━━━━━━━━━━━━━\u001b[0m \u001b[32m1.9/1.9 MB\u001b[0m \u001b[31m84.5 MB/s\u001b[0m eta \u001b[36m0:00:00\u001b[0m\n",
            "\u001b[?25hRequirement already satisfied: autograd in /usr/local/lib/python3.10/dist-packages (from pennylane) (1.5)\n",
            "Requirement already satisfied: toml in /usr/local/lib/python3.10/dist-packages (from pennylane) (0.10.2)\n",
            "Requirement already satisfied: appdirs in /usr/local/lib/python3.10/dist-packages (from pennylane) (1.4.4)\n",
            "Collecting semantic-version>=2.7 (from pennylane)\n",
            "  Downloading semantic_version-2.10.0-py2.py3-none-any.whl (15 kB)\n",
            "Collecting autoray>=0.3.1 (from pennylane)\n",
            "  Downloading autoray-0.6.3-py3-none-any.whl (48 kB)\n",
            "\u001b[2K     \u001b[90m━━━━━━━━━━━━━━━━━━━━━━━━━━━━━━━━━━━━━━━━\u001b[0m \u001b[32m48.3/48.3 kB\u001b[0m \u001b[31m3.7 MB/s\u001b[0m eta \u001b[36m0:00:00\u001b[0m\n",
            "\u001b[?25hRequirement already satisfied: cachetools in /usr/local/lib/python3.10/dist-packages (from pennylane) (5.3.0)\n",
            "Collecting pennylane-lightning>=0.30 (from pennylane)\n",
            "  Downloading PennyLane_Lightning-0.30.0-cp310-cp310-manylinux_2_17_x86_64.manylinux2014_x86_64.whl (16.6 MB)\n",
            "\u001b[2K     \u001b[90m━━━━━━━━━━━━━━━━━━━━━━━━━━━━━━━━━━━━━━━━\u001b[0m \u001b[32m16.6/16.6 MB\u001b[0m \u001b[31m68.3 MB/s\u001b[0m eta \u001b[36m0:00:00\u001b[0m\n",
            "\u001b[?25hRequirement already satisfied: requests in /usr/local/lib/python3.10/dist-packages (from pennylane) (2.27.1)\n",
            "Requirement already satisfied: future>=0.15.2 in /usr/local/lib/python3.10/dist-packages (from autograd->pennylane) (0.18.3)\n",
            "Requirement already satisfied: urllib3<1.27,>=1.21.1 in /usr/local/lib/python3.10/dist-packages (from requests->pennylane) (1.26.15)\n",
            "Requirement already satisfied: certifi>=2017.4.17 in /usr/local/lib/python3.10/dist-packages (from requests->pennylane) (2022.12.7)\n",
            "Requirement already satisfied: charset-normalizer~=2.0.0 in /usr/local/lib/python3.10/dist-packages (from requests->pennylane) (2.0.12)\n",
            "Requirement already satisfied: idna<4,>=2.5 in /usr/local/lib/python3.10/dist-packages (from requests->pennylane) (3.4)\n",
            "Installing collected packages: semantic-version, rustworkx, autoray, pennylane-lightning, pennylane\n",
            "Successfully installed autoray-0.6.3 pennylane-0.30.0 pennylane-lightning-0.30.0 rustworkx-0.13.0 semantic-version-2.10.0\n"
          ]
        }
      ],
      "source": [
        "!pip install pennylane"
      ]
    },
    {
      "cell_type": "code",
      "source": [
        "import pennylane as qml\n",
        "from pennylane import numpy as np\n",
        "from pennylane.templates import AngleEmbedding, StronglyEntanglingLayers\n",
        "from tensorflow.keras.preprocessing.text import Tokenizer\n",
        "from tensorflow.keras.models import Sequential\n",
        "from tensorflow.keras.layers import Dense\n",
        "from tensorflow.keras.optimizers import Adam\n",
        "from tensorflow.keras.losses import CategoricalCrossentropy\n",
        "from tensorflow.keras import callbacks\n",
        "from tensorflow.keras.preprocessing.sequence import pad_sequences\n",
        "import tensorflow.keras.utils as ku\n",
        "import matplotlib.pyplot as plt"
      ],
      "metadata": {
        "id": "jeb-QNMeDSW9"
      },
      "execution_count": 2,
      "outputs": []
    },
    {
      "cell_type": "code",
      "source": [
        "data = [\n",
        "    \"User: What's the weather like today? Assistant: The weather today is sunny with a high of 25 degrees Celsius.\",\n",
        "    \"User: Can you recommend a good restaurant in the city center? Assistant: Sure! One highly recommended restaurant in the city center is 'Foodie Haven.' They offer a variety of cuisines and have received great reviews for their service.\",\n",
        "    \"User: How do I change my password for the online banking system? Assistant: To change your password for the online banking system, you can log in to your account, go to the settings menu, and look for the 'Change Password' option. Click on it, and follow the instructions to set a new password.\",\n",
        "    \"User: What are the most popular tourist attractions in Paris? Assistant: Paris is known for its many iconic tourist attractions. Some of the most popular ones include the Eiffel Tower, Louvre Museum, Notre-Dame Cathedral, and the Champs-Élysées.\",\n",
        "    \"User: How can I improve my programming skills? Assistant: Improving programming skills requires practice and dedication. Here are a few tips: start with the basics, work on small coding projects, collaborate with other programmers, and keep up with the latest trends and technologies in the field.\",\n",
        "    \"User: What are the symptoms of the common cold? Assistant: The common cold typically presents with symptoms such as a runny or stuffy nose, sneezing, sore throat, cough, mild headache, and occasionally a low-grade fever.\",\n",
        "    \"User: How can I protect my computer from viruses? Assistant: To protect your computer from viruses, make sure to install a reputable antivirus software, keep it up to date, avoid downloading files from untrusted sources, and regularly back up your important data.\",\n",
        "    \"User: What are the requirements for obtaining a driver's license? Assistant: The requirements for obtaining a driver's license vary depending on your jurisdiction. Generally, you will need to meet the minimum age requirement, pass a written exam, and pass a practical driving test. Additionally, you may need to provide identification documents and pay the necessary fees.\"\n",
        "]\n",
        "\n",
        "# Split into training and test sets\n",
        "train_size = int(len(data) * 0.9)\n",
        "train_data = data[:train_size]\n",
        "test_data = data[train_size:]\n",
        "\n",
        "tokenizer = Tokenizer(char_level=True)\n",
        "tokenizer.fit_on_texts(train_data)\n",
        "total_words = len(tokenizer.word_index) + 1\n",
        "\n",
        "# Convert data to sequence of tokens\n",
        "input_sequences = []\n",
        "for line in train_data:\n",
        "    token_list = tokenizer.texts_to_sequences([line])[0]\n",
        "    for i in range(1, len(token_list)):\n",
        "        n_gram_sequence = token_list[:i+1]\n",
        "        input_sequences.append(n_gram_sequence)\n",
        "\n",
        "# Pad sequences\n",
        "max_sequence_len = max([len(x) for x in input_sequences])\n",
        "input_sequences = np.array(pad_sequences(input_sequences, maxlen=max_sequence_len, padding='pre'))\n",
        "\n",
        "# Create predictors and label\n",
        "predictors, label = input_sequences[:,:-1], ku.to_categorical(input_sequences[:,-1], num_classes=total_words)"
      ],
      "metadata": {
        "id": "SEQtI-9GDSZs"
      },
      "execution_count": 3,
      "outputs": []
    },
    {
      "cell_type": "code",
      "source": [
        "# Quantum part\n",
        "n_qubits = 4\n",
        "n_layers = 2\n",
        "dev = qml.device(\"default.qubit\", wires=n_qubits)\n",
        "\n",
        "@qml.qnode(dev)\n",
        "def qnode(inputs, weights):\n",
        "    AngleEmbedding(inputs, wires=range(n_qubits))\n",
        "    StronglyEntanglingLayers(weights, wires=range(n_qubits))\n",
        "    return [qml.expval(qml.PauliZ(i)) for i in range(n_qubits)]\n",
        "\n",
        "def qnn_layer():\n",
        "    return qml.qnn.KerasLayer(qnode, {\"weights\": (n_layers, n_qubits, 3)}, output_dim=n_qubits)"
      ],
      "metadata": {
        "id": "5n5ixHViDScb"
      },
      "execution_count": 4,
      "outputs": []
    },
    {
      "cell_type": "code",
      "source": [
        "# Building the model\n",
        "model = Sequential()\n",
        "model.add(Dense(2, input_shape=(max_sequence_len-1,)))  # Adding this Dense layer to bring down dimensions to 2\n",
        "model.add(qnn_layer())  # QNN layer\n",
        "model.add(Dense(total_words, activation='softmax'))"
      ],
      "metadata": {
        "id": "lukMxZ8KDSe7"
      },
      "execution_count": 5,
      "outputs": []
    },
    {
      "cell_type": "code",
      "source": [
        "# Compile Model\n",
        "model.compile(loss=CategoricalCrossentropy(), optimizer=Adam(lr=0.01), metrics='accuracy')\n"
      ],
      "metadata": {
        "colab": {
          "base_uri": "https://localhost:8080/"
        },
        "id": "awrpIDLjDShc",
        "outputId": "2f77597f-fb00-4929-dbc4-c6d9020de74a"
      },
      "execution_count": 6,
      "outputs": [
        {
          "output_type": "stream",
          "name": "stderr",
          "text": [
            "WARNING:absl:`lr` is deprecated in Keras optimizer, please use `learning_rate` or use the legacy optimizer, e.g.,tf.keras.optimizers.legacy.Adam.\n"
          ]
        }
      ]
    },
    {
      "cell_type": "code",
      "source": [
        "# Callback to stop training early if loss does not improve\n",
        "early_stop = callbacks.EarlyStopping(monitor='val_loss', patience=3)"
      ],
      "metadata": {
        "id": "WmKL41h3DSjz"
      },
      "execution_count": 7,
      "outputs": []
    },
    {
      "cell_type": "code",
      "source": [
        "import tensorflow as tf\n",
        "tf.get_logger().setLevel('ERROR')\n",
        "# Train the model\n",
        "history = model.fit(predictors, label, epochs=15, verbose=1, validation_split=0.1, callbacks=[early_stop])"
      ],
      "metadata": {
        "colab": {
          "base_uri": "https://localhost:8080/"
        },
        "id": "HHZYvoySDSpd",
        "outputId": "82f751fb-be83-44b4-fce2-8d66886e2633"
      },
      "execution_count": 8,
      "outputs": [
        {
          "output_type": "stream",
          "name": "stdout",
          "text": [
            "Epoch 1/15\n",
            "47/47 [==============================] - 333s 7s/step - loss: 3.5927 - accuracy: 0.0497 - val_loss: 3.5871 - val_accuracy: 0.0602\n",
            "Epoch 2/15\n",
            "47/47 [==============================] - 318s 7s/step - loss: 3.5257 - accuracy: 0.0927 - val_loss: 3.5517 - val_accuracy: 0.0843\n",
            "Epoch 3/15\n",
            "47/47 [==============================] - 318s 7s/step - loss: 3.4752 - accuracy: 0.0994 - val_loss: 3.4933 - val_accuracy: 0.0542\n",
            "Epoch 4/15\n",
            "47/47 [==============================] - 325s 7s/step - loss: 3.4121 - accuracy: 0.1216 - val_loss: 3.4285 - val_accuracy: 0.1205\n",
            "Epoch 5/15\n",
            "47/47 [==============================] - 320s 7s/step - loss: 3.3645 - accuracy: 0.1202 - val_loss: 3.3933 - val_accuracy: 0.1265\n",
            "Epoch 6/15\n",
            "47/47 [==============================] - 334s 7s/step - loss: 3.3131 - accuracy: 0.1189 - val_loss: 3.3712 - val_accuracy: 0.0783\n",
            "Epoch 7/15\n",
            "47/47 [==============================] - 328s 7s/step - loss: 3.2674 - accuracy: 0.1397 - val_loss: 3.3192 - val_accuracy: 0.0904\n",
            "Epoch 8/15\n",
            "47/47 [==============================] - 328s 7s/step - loss: 3.2343 - accuracy: 0.1370 - val_loss: 3.3043 - val_accuracy: 0.0663\n",
            "Epoch 9/15\n",
            "47/47 [==============================] - 326s 7s/step - loss: 3.1950 - accuracy: 0.1457 - val_loss: 3.2638 - val_accuracy: 0.1024\n",
            "Epoch 10/15\n",
            "47/47 [==============================] - 332s 7s/step - loss: 3.1727 - accuracy: 0.1457 - val_loss: 3.2283 - val_accuracy: 0.1566\n",
            "Epoch 11/15\n",
            "47/47 [==============================] - 331s 7s/step - loss: 3.1474 - accuracy: 0.1478 - val_loss: 3.2217 - val_accuracy: 0.0843\n",
            "Epoch 12/15\n",
            "47/47 [==============================] - 325s 7s/step - loss: 3.1081 - accuracy: 0.1645 - val_loss: 3.2177 - val_accuracy: 0.0964\n",
            "Epoch 13/15\n",
            "47/47 [==============================] - 324s 7s/step - loss: 3.1017 - accuracy: 0.1632 - val_loss: 3.2023 - val_accuracy: 0.1024\n",
            "Epoch 14/15\n",
            "47/47 [==============================] - 330s 7s/step - loss: 3.0707 - accuracy: 0.1652 - val_loss: 3.1920 - val_accuracy: 0.0843\n",
            "Epoch 15/15\n",
            "47/47 [==============================] - 331s 7s/step - loss: 3.0472 - accuracy: 0.1672 - val_loss: 3.1592 - val_accuracy: 0.1386\n"
          ]
        }
      ]
    },
    {
      "cell_type": "code",
      "source": [
        "# Training and Validation Loss\n",
        "plt.plot(history.history[\"loss\"], label=\"Training Loss\")\n",
        "plt.plot(history.history[\"val_loss\"], label=\"Validation Loss\")\n",
        "plt.xlabel(\"Epochs\")\n",
        "plt.ylabel(\"Loss\")\n",
        "plt.legend()\n",
        "plt.show()"
      ],
      "metadata": {
        "colab": {
          "base_uri": "https://localhost:8080/",
          "height": 449
        },
        "id": "SuHW-RV-DSrr",
        "outputId": "430a043e-0792-4b4d-ec05-10ff72128d48"
      },
      "execution_count": 9,
      "outputs": [
        {
          "output_type": "display_data",
          "data": {
            "text/plain": [
              "<Figure size 640x480 with 1 Axes>"
            ],
            "image/png": "[encoded data removed]"
          },
          "metadata": {}
        }
      ]
    },
    {
      "cell_type": "code",
      "source": [
        "# Convert test data to sequence of tokens\n",
        "input_sequences_test = []\n",
        "for line in test_data:\n",
        "    token_list = tokenizer.texts_to_sequences([line])[0]\n",
        "    for i in range(1, len(token_list)):\n",
        "        n_gram_sequence = token_list[:i+1]\n",
        "        input_sequences_test.append(n_gram_sequence)\n",
        "\n",
        "# Pad sequences\n",
        "input_sequences_test = np.array(pad_sequences(input_sequences_test, maxlen=max_sequence_len, padding='pre'))\n",
        "\n",
        "# Create predictors and label for testing\n",
        "predictors_test, label_test = input_sequences_test[:,:-1], ku.to_categorical(input_sequences_test[:,-1], num_classes=total_words)\n",
        "\n",
        "# Evaluate the model with test data\n",
        "test_loss, test_acc = model.evaluate(predictors_test, label_test, verbose=2)\n",
        "print(\"Test Loss: \", test_loss)\n",
        "print(\"Test Accuracy: \", test_acc)\n"
      ],
      "metadata": {
        "colab": {
          "base_uri": "https://localhost:8080/"
        },
        "id": "8v4LqOw1DSud",
        "outputId": "0cea1ff2-5498-46ba-a676-44a86c0980f6"
      },
      "execution_count": 10,
      "outputs": [
        {
          "output_type": "stream",
          "name": "stdout",
          "text": [
            "12/12 - 34s - loss: 3.1059 - accuracy: 0.1270 - 34s/epoch - 3s/step\n",
            "Test Loss:  3.105931520462036\n",
            "Test Accuracy:  0.1270270198583603\n"
          ]
        }
      ]
    }
  ]
}